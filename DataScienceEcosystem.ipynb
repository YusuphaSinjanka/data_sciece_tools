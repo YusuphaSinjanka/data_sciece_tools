{
 "cells": [
  {
   "cell_type": "markdown",
   "id": "8b42f821-e51f-40f4-bf8b-e2d45282af1c",
   "metadata": {},
   "source": [
    "## Data Science Tools and Ecoystem"
   ]
  },
  {
   "cell_type": "markdown",
   "id": "9aababfe-3644-45a3-994a-12eff4fe6a51",
   "metadata": {
    "tags": []
   },
   "source": [
    "In this notebook, Data Science Tools and Ecosystem are summarized"
   ]
  },
  {
   "cell_type": "markdown",
   "id": "babd8fcc-d141-43f7-9551-eee143df7b8b",
   "metadata": {},
   "source": [
    "Some of the popular languages that Data Scientists use are:\n",
    "1-python\n",
    "2-R/R Studio\n",
    "3-Java\n",
    "4-Scala"
   ]
  },
  {
   "cell_type": "markdown",
   "id": "c8a75a6c-9263-43a3-959b-80d3b56935eb",
   "metadata": {},
   "source": [
    "**objectives:_**\n",
    "* list popular languages for data science\n",
    "* cover popular libraries for data science\n",
    "* introduction to jupyter notebook, git/github."
   ]
  },
  {
   "cell_type": "markdown",
   "id": "a01f5838-69ed-4283-a048-ba65d98f50b4",
   "metadata": {},
   "source": [
    "Some of the commonly used libraries used by Data Scientists include:\n",
    "1-pandas\n",
    "2-Numpy\n",
    "3-scipy\n",
    "4-keras\n",
    "5-pytorch"
   ]
  },
  {
   "cell_type": "markdown",
   "id": "1036551a-b241-41ec-ad94-08fe1ac6ea2b",
   "metadata": {},
   "source": [
    "|data science tools|\n",
    "|------------------|\n",
    "|jupyter notebook  |\n",
    "|pycharm           |\n",
    "|vscode            |"
   ]
  },
  {
   "cell_type": "markdown",
   "id": "a9e71f03-07a9-4646-ab19-3f3f3a387ea8",
   "metadata": {
    "tags": []
   },
   "source": [
    "### Below are a few examples of evaluating arithmetic expressions in Python"
   ]
  },
  {
   "cell_type": "code",
   "execution_count": 4,
   "id": "f7a1309d-63fe-4b2d-b3b3-56cbae4299c7",
   "metadata": {
    "tags": []
   },
   "outputs": [
    {
     "data": {
      "text/plain": [
       "17"
      ]
     },
     "execution_count": 4,
     "metadata": {},
     "output_type": "execute_result"
    }
   ],
   "source": [
    "#This a simple arithmetic expression to mutiply then add integers\n",
    "(3*4)+5"
   ]
  },
  {
   "cell_type": "code",
   "execution_count": 5,
   "id": "607f9da8-66c7-4e94-bd1b-25271f993d16",
   "metadata": {
    "tags": []
   },
   "outputs": [
    {
     "name": "stdout",
     "output_type": "stream",
     "text": [
      "3.3333333333333335\n"
     ]
    }
   ],
   "source": [
    "# This will convert 200 minutes to hours by diving by 60\n",
    "mins = 200;\n",
    "hrs = mins / 60;\n",
    "print(hrs)\n"
   ]
  },
  {
   "cell_type": "markdown",
   "id": "54391ea2-36a6-4987-a810-659fc23b5f8f",
   "metadata": {},
   "source": [
    "## Author\n",
    "YUSUPHA SINJANKA"
   ]
  },
  {
   "cell_type": "code",
   "execution_count": null,
   "id": "e81ea03b-364b-484e-a093-651fd0aac572",
   "metadata": {},
   "outputs": [],
   "source": []
  }
 ],
 "metadata": {
  "kernelspec": {
   "display_name": "Python",
   "language": "python",
   "name": "conda-env-python-py"
  },
  "language_info": {
   "codemirror_mode": {
    "name": "ipython",
    "version": 3
   },
   "file_extension": ".py",
   "mimetype": "text/x-python",
   "name": "python",
   "nbconvert_exporter": "python",
   "pygments_lexer": "ipython3",
   "version": "3.7.12"
  }
 },
 "nbformat": 4,
 "nbformat_minor": 5
}
